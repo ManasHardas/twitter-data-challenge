{
 "cells": [
  {
   "cell_type": "markdown",
   "metadata": {},
   "source": [
    "###Anova analysis by country"
   ]
  },
  {
   "cell_type": "code",
   "execution_count": 1,
   "metadata": {
    "collapsed": false
   },
   "outputs": [
    {
     "name": "stderr",
     "output_type": "stream",
     "text": [
      "[INFO] This commercial license of GraphLab Create is assigned to mjdata@mindjet.com.\n",
      "\n",
      "[INFO] Start server at: ipc:///tmp/graphlab_server-4636 - Server binary: /Library/Python/2.7/site-packages/graphlab/unity_server - Server log: /tmp/graphlab_server_1440379406.log\n",
      "[INFO] GraphLab Server Version: 1.5.2\n"
     ]
    },
    {
     "name": "stdout",
     "output_type": "stream",
     "text": [
      "PROGRESS: Finished parsing file /Users/mhardas/Google Drive/work/project/twitter-data-challenge/data/user_graph.csv\n",
      "PROGRESS: Parsing completed. Parsed 100 lines in 1.50934 secs.\n",
      "------------------------------------------------------\n",
      "Inferred types from first line of file as \n",
      "column_type_hints=[int,int,int,int,int]\n",
      "If parsing fails due to incorrect types, you can correct\n",
      "the inferred type list above and pass it to read_csv in\n",
      "the column_type_hints argument\n",
      "------------------------------------------------------\n",
      "PROGRESS: Read 2641306 lines. Lines per second: 1.27888e+06\n",
      "PROGRESS: Finished parsing file /Users/mhardas/Google Drive/work/project/twitter-data-challenge/data/user_graph.csv\n",
      "PROGRESS: Parsing completed. Parsed 4000000 lines in 2.44885 secs.\n",
      "PROGRESS: Finished parsing file /Users/mhardas/Google Drive/work/project/twitter-data-challenge/data/user_engagement.csv\n",
      "PROGRESS: Parsing completed. Parsed 100 lines in 1.56959 secs.\n",
      "------------------------------------------------------\n",
      "Inferred types from first line of file as \n",
      "column_type_hints=[int,int,int,int,int,int,int,int,int]\n",
      "If parsing fails due to incorrect types, you can correct\n",
      "the inferred type list above and pass it to read_csv in\n",
      "the column_type_hints argument\n",
      "------------------------------------------------------\n",
      "PROGRESS: Read 1737129 lines. Lines per second: 659683\n",
      "PROGRESS: Finished parsing file /Users/mhardas/Google Drive/work/project/twitter-data-challenge/data/user_engagement.csv\n",
      "PROGRESS: Parsing completed. Parsed 4000000 lines in 3.80573 secs.\n",
      "PROGRESS: Finished parsing file /Users/mhardas/Google Drive/work/project/twitter-data-challenge/data/user_login_info.csv\n",
      "PROGRESS: Parsing completed. Parsed 100 lines in 3.99922 secs.\n",
      "------------------------------------------------------\n",
      "Inferred types from first line of file as \n",
      "column_type_hints=[int,str,str,int,str]\n",
      "If parsing fails due to incorrect types, you can correct\n",
      "the inferred type list above and pass it to read_csv in\n",
      "the column_type_hints argument\n",
      "------------------------------------------------------\n",
      "PROGRESS: Read 3172097 lines. Lines per second: 861252\n",
      "PROGRESS: Finished parsing file /Users/mhardas/Google Drive/work/project/twitter-data-challenge/data/user_login_info.csv\n",
      "PROGRESS: Parsing completed. Parsed 4000000 lines in 4.07654 secs.\n"
     ]
    }
   ],
   "source": [
    "import graphlab as gl\n",
    "graph = gl.SFrame.read_csv('data/user_graph.csv')\n",
    "eng = gl.SFrame.read_csv('data/user_engagement.csv')\n",
    "login = gl.SFrame.read_csv('data/user_login_info.csv')\n",
    "\n",
    "login_eng = login.join(eng, on='user_id', how='inner')\n",
    "login_eng_graph = login_eng.join(graph, on='user_id', how='inner')\n",
    "login_eng_graph, drop = login_eng_graph.dropna_split()"
   ]
  },
  {
   "cell_type": "markdown",
   "metadata": {},
   "source": [
    "###Hypothesis: Activity of a person is a function of the country_id"
   ]
  },
  {
   "cell_type": "markdown",
   "metadata": {},
   "source": [
    "Activity is a loosely defined term on purpose. Consider activity is defined as the sum of \"engagement\" metrics from the dataset."
   ]
  },
  {
   "cell_type": "code",
   "execution_count": 7,
   "metadata": {
    "collapsed": false
   },
   "outputs": [
    {
     "name": "stdout",
     "output_type": "stream",
     "text": [
      "+---------+------------+----------------+-------------+----------+----------------+\n",
      "| user_id | country_id | primary_device | days_active | activity | num_tweets_30d |\n",
      "+---------+------------+----------------+-------------+----------+----------------+\n",
      "|    1    |     h      |       B        |      26     |    t     |      186       |\n",
      "|    2    |     d      |       B        |      27     |    t     |       5        |\n",
      "|    3    |     h      |       A        |      21     |    t     |       0        |\n",
      "|    4    |     h      |       A        |      29     |    t     |       4        |\n",
      "|    5    |     h      |       E        |      30     |    f     |       1        |\n",
      "|    6    |     h      |       B        |      26     |    t     |       51       |\n",
      "|    7    |     g      |       B        |      30     |    t     |      4713      |\n",
      "|    8    |     g      |       B        |      30     |    t     |       5        |\n",
      "|    9    |     h      |       A        |      30     |    t     |      185       |\n",
      "|    10   |     h      |       A        |      22     |    t     |       0        |\n",
      "+---------+------------+----------------+-------------+----------+----------------+\n",
      "+--------------------+-----------------+------------------------+-------------------------+\n",
      "| num_tweet_days_30d | time_in_app_30d | num_timeline_views_30d | num_share_sent_days_30d |\n",
      "+--------------------+-----------------+------------------------+-------------------------+\n",
      "|         24         |      14109      |          806           |            19           |\n",
      "|         5          |       2114      |           85           |            4            |\n",
      "|         0          |        0        |           32           |            0            |\n",
      "|         3          |      12654      |          595           |            1            |\n",
      "|         1          |        0        |          1335          |            0            |\n",
      "|         14         |      10729      |          262           |            11           |\n",
      "|         29         |      14546      |          649           |            28           |\n",
      "|         5          |       1993      |          518           |            5            |\n",
      "|         26         |       3030      |          157           |            17           |\n",
      "|         0          |       5683      |          274           |            0            |\n",
      "+--------------------+-----------------+------------------------+-------------------------+\n",
      "+--------------------+---------------------+---------------------+-----------+\n",
      "| num_share_rcvd_30d | num_favour_sent_30d | num_favour_rcvd_30d | followers |\n",
      "+--------------------+---------------------+---------------------+-----------+\n",
      "|         7          |         111         |          27         |    144    |\n",
      "|         0          |          1          |          0          |     90    |\n",
      "|         0          |          0          |          0          |     2     |\n",
      "|         0          |          6          |          0          |     21    |\n",
      "|         0          |          0          |          0          |     1     |\n",
      "|         0          |         117         |          4          |     21    |\n",
      "|         0          |          3          |          4          |    247    |\n",
      "|         0          |          30         |          0          |    266    |\n",
      "|         16         |          13         |          12         |    964    |\n",
      "|         0          |          0          |          0          |    180    |\n",
      "+--------------------+---------------------+---------------------+-----------+\n",
      "+------------+------------------+-------------------------------+-----------------+\n",
      "| followings | active_followers | num_mutual_follower_added_30d | activity_metics |\n",
      "+------------+------------------+-------------------------------+-----------------+\n",
      "|    139     |       134        |               10              |      15103      |\n",
      "|    435     |        78        |               16              |       2209      |\n",
      "|     14     |        0         |               0               |        32       |\n",
      "|    131     |        13        |               1               |      13259      |\n",
      "|     59     |        0         |               1               |       1336      |\n",
      "|    117     |        19        |               2               |      11137      |\n",
      "|    500     |       190        |               17              |      15259      |\n",
      "|    363     |       212        |               28              |       2551      |\n",
      "|    728     |       599        |               6               |       3271      |\n",
      "|    718     |       117        |               0               |       5957      |\n",
      "+------------+------------------+-------------------------------+-----------------+\n",
      "[3919937 rows x 18 columns]\n",
      "Note: Only the head of the SFrame is printed.\n",
      "You can use print_rows(num_rows=m, num_columns=n) to print more rows and columns.\n"
     ]
    }
   ],
   "source": [
    "login_eng_graph['activity_metics'] = login_eng_graph.apply(lambda x: x['num_tweet_days_30d'] + x['time_in_app_30d'] +\n",
    "                                                           x['num_timeline_views_30d'] + x['num_share_sent_days_30d']\n",
    "                                                           + x['num_share_rcvd_30d'] + x['num_favour_sent_30d'] +\n",
    "                                                           x['num_favour_rcvd_30d'])\n",
    "print login_eng_graph"
   ]
  },
  {
   "cell_type": "markdown",
   "metadata": {},
   "source": [
    "Get the set of countries and sum of users from each country"
   ]
  },
  {
   "cell_type": "code",
   "execution_count": 9,
   "metadata": {
    "collapsed": false
   },
   "outputs": [
    {
     "data": {
      "text/html": [
       "<div style=\"max-height:1000px;max-width:1500px;overflow:auto;\"><table frame=\"box\" rules=\"cols\">\n",
       "    <tr>\n",
       "        <th style=\"padding-left: 1em; padding-right: 1em; text-align: center\">country_id</th>\n",
       "        <th style=\"padding-left: 1em; padding-right: 1em; text-align: center\">count</th>\n",
       "    </tr>\n",
       "    <tr>\n",
       "        <td style=\"padding-left: 1em; padding-right: 1em; text-align: center; vertical-align: top\">a</td>\n",
       "        <td style=\"padding-left: 1em; padding-right: 1em; text-align: center; vertical-align: top\">49285</td>\n",
       "    </tr>\n",
       "    <tr>\n",
       "        <td style=\"padding-left: 1em; padding-right: 1em; text-align: center; vertical-align: top\">g</td>\n",
       "        <td style=\"padding-left: 1em; padding-right: 1em; text-align: center; vertical-align: top\">1134673</td>\n",
       "    </tr>\n",
       "    <tr>\n",
       "        <td style=\"padding-left: 1em; padding-right: 1em; text-align: center; vertical-align: top\">c</td>\n",
       "        <td style=\"padding-left: 1em; padding-right: 1em; text-align: center; vertical-align: top\">66611</td>\n",
       "    </tr>\n",
       "    <tr>\n",
       "        <td style=\"padding-left: 1em; padding-right: 1em; text-align: center; vertical-align: top\">h</td>\n",
       "        <td style=\"padding-left: 1em; padding-right: 1em; text-align: center; vertical-align: top\">1742210</td>\n",
       "    </tr>\n",
       "    <tr>\n",
       "        <td style=\"padding-left: 1em; padding-right: 1em; text-align: center; vertical-align: top\">f</td>\n",
       "        <td style=\"padding-left: 1em; padding-right: 1em; text-align: center; vertical-align: top\">104267</td>\n",
       "    </tr>\n",
       "    <tr>\n",
       "        <td style=\"padding-left: 1em; padding-right: 1em; text-align: center; vertical-align: top\">d</td>\n",
       "        <td style=\"padding-left: 1em; padding-right: 1em; text-align: center; vertical-align: top\">476008</td>\n",
       "    </tr>\n",
       "    <tr>\n",
       "        <td style=\"padding-left: 1em; padding-right: 1em; text-align: center; vertical-align: top\">b</td>\n",
       "        <td style=\"padding-left: 1em; padding-right: 1em; text-align: center; vertical-align: top\">166687</td>\n",
       "    </tr>\n",
       "    <tr>\n",
       "        <td style=\"padding-left: 1em; padding-right: 1em; text-align: center; vertical-align: top\">e</td>\n",
       "        <td style=\"padding-left: 1em; padding-right: 1em; text-align: center; vertical-align: top\">180196</td>\n",
       "    </tr>\n",
       "</table>\n",
       "[8 rows x 2 columns]<br/>\n",
       "</div>"
      ],
      "text/plain": [
       "Columns:\n",
       "\tcountry_id\tstr\n",
       "\tcount\tint\n",
       "\n",
       "Rows: 8\n",
       "\n",
       "Data:\n",
       "+------------+---------+\n",
       "| country_id |  count  |\n",
       "+------------+---------+\n",
       "|     a      |  49285  |\n",
       "|     g      | 1134673 |\n",
       "|     c      |  66611  |\n",
       "|     h      | 1742210 |\n",
       "|     f      |  104267 |\n",
       "|     d      |  476008 |\n",
       "|     b      |  166687 |\n",
       "|     e      |  180196 |\n",
       "+------------+---------+\n",
       "[8 rows x 2 columns]"
      ]
     },
     "execution_count": 9,
     "metadata": {},
     "output_type": "execute_result"
    }
   ],
   "source": [
    "import graphlab.aggregate as agg\n",
    "countries = login_eng_graph.groupby('country_id', operations={'count': agg.COUNT()})\n",
    "countries"
   ]
  },
  {
   "cell_type": "markdown",
   "metadata": {},
   "source": [
    "Sample users from eight different countries. Each sample consists of n=10000 users. No real reason behind selecting\n",
    "this number. It is open to interpretation."
   ]
  },
  {
   "cell_type": "code",
   "execution_count": null,
   "metadata": {
    "collapsed": true
   },
   "outputs": [],
   "source": []
  }
 ],
 "metadata": {
  "kernelspec": {
   "display_name": "Python 2",
   "language": "python",
   "name": "python2"
  },
  "language_info": {
   "codemirror_mode": {
    "name": "ipython",
    "version": 2
   },
   "file_extension": ".py",
   "mimetype": "text/x-python",
   "name": "python",
   "nbconvert_exporter": "python",
   "pygments_lexer": "ipython2",
   "version": "2.7.6"
  }
 },
 "nbformat": 4,
 "nbformat_minor": 0
}

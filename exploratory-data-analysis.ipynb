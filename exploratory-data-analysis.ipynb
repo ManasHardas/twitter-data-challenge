{
 "cells": [
  {
   "cell_type": "markdown",
   "metadata": {},
   "source": [
    "# Notes, assumptions and premises:"
   ]
  },
  {
   "cell_type": "markdown",
   "metadata": {
    "collapsed": true
   },
   "source": [
    "Activities can be classified as \"content generation\" activities versus \"content distribution/handling\". For example, tweeting, replying, direct messaging are \"content generation\" type activities. Whereas, retweeting, sharing via dm, favoriting are \"content distribution/handling\" type activities.\n",
    "\n",
    "Presumably the process that generates content, say process A, and the process that distributes/handles pre-generated content, say process B, is different. The process A is a creative process in which content is being created or information is being communicated to someone else. In process B, content is not created but already generated content is retweeted, shared or favorited for future consumption. I believe it is a worthwhile effort to understand the difference between these two processes, what features affect these processes and which users are good at which processes. For the purpose of this data science challenge I would like try to find some indicators about how these processes differ from the given data.\n",
    "\n",
    "Process A i.e. 'tweeting' can further be classified into replying or creating a new tweet to a user or set of users. A tweet by default is to all followers. Users can be segmented between those who tweet to the general follower populace or those who tweet only to a particular set of users, or those who only tweet replies. However, all these segments of users \"generate\" new content. This is important because, generating new content can be thought of as a deeper level of engagement than reusing content already present on the website.\n",
    "\n",
    "Process B can further be separated into individual processes for retweeting, sharing and favoriting. I will not dvelve further into this but I can clearly see potential differences in the processes relative to network effects, communities, reciprocal behavior, clustering etc. For example, when a user retweets another tweet it is primarily because they \"agree\" with the content of the tweet and want others to take notice. Whereas when a user favorites a tweet it is presumably for their own delayed consumption. Activities of retweeting, sharing and favoriting are treated as one here, that of content distribution rather than content creation.\n",
    "\n",
    "Furthermore processes A and B maybe further different for each and every individual user (mostly are). Therefore it is important to segment the users by processes A and B.\n",
    "\n",
    "\n",
    "'Time in app' and 'Number of timeline views' is an excellent indicator of 'how addicted' a user. Both these metrics "
   ]
  },
  {
   "cell_type": "markdown",
   "metadata": {},
   "source": [
    "##Exploratory data analysis"
   ]
  },
  {
   "cell_type": "markdown",
   "metadata": {},
   "source": [
    "###User graph data "
   ]
  },
  {
   "cell_type": "code",
   "execution_count": 16,
   "metadata": {
    "collapsed": false
   },
   "outputs": [
    {
     "data": {
      "text/plain": [
       "user_id                            int64\n",
       "followers                        float64\n",
       "followings                       float64\n",
       "active_followers                 float64\n",
       "num_mutual_follower_added_30d      int64\n",
       "dtype: object"
      ]
     },
     "execution_count": 16,
     "metadata": {},
     "output_type": "execute_result"
    }
   ],
   "source": [
    "import pandas\n",
    "graph = pandas.read_csv('data/user_graph.csv')\n",
    "\n",
    "# remove nan\n",
    "graph.dropna()\n",
    "\n",
    "# print dtypes\n",
    "graph.dtypes"
   ]
  },
  {
   "cell_type": "code",
   "execution_count": 17,
   "metadata": {
    "collapsed": false
   },
   "outputs": [
    {
     "data": {
      "text/html": [
       "<div>\n",
       "<table border=\"1\" class=\"dataframe\">\n",
       "  <thead>\n",
       "    <tr style=\"text-align: right;\">\n",
       "      <th></th>\n",
       "      <th>user_id</th>\n",
       "      <th>followers</th>\n",
       "      <th>followings</th>\n",
       "      <th>active_followers</th>\n",
       "      <th>num_mutual_follower_added_30d</th>\n",
       "    </tr>\n",
       "  </thead>\n",
       "  <tbody>\n",
       "    <tr>\n",
       "      <th>count</th>\n",
       "      <td>4000000.000000</td>\n",
       "      <td>3928007.000000</td>\n",
       "      <td>3967588.000000</td>\n",
       "      <td>3928007.000000</td>\n",
       "      <td>4000000.000000</td>\n",
       "    </tr>\n",
       "    <tr>\n",
       "      <th>mean</th>\n",
       "      <td>2000000.500000</td>\n",
       "      <td>424.013031</td>\n",
       "      <td>273.838268</td>\n",
       "      <td>279.464293</td>\n",
       "      <td>9.154459</td>\n",
       "    </tr>\n",
       "    <tr>\n",
       "      <th>std</th>\n",
       "      <td>1154700.682717</td>\n",
       "      <td>34250.332521</td>\n",
       "      <td>1254.983664</td>\n",
       "      <td>13424.065390</td>\n",
       "      <td>102.175053</td>\n",
       "    </tr>\n",
       "    <tr>\n",
       "      <th>min</th>\n",
       "      <td>1.000000</td>\n",
       "      <td>1.000000</td>\n",
       "      <td>1.000000</td>\n",
       "      <td>0.000000</td>\n",
       "      <td>0.000000</td>\n",
       "    </tr>\n",
       "    <tr>\n",
       "      <th>25%</th>\n",
       "      <td>1000000.750000</td>\n",
       "      <td>18.000000</td>\n",
       "      <td>52.000000</td>\n",
       "      <td>13.000000</td>\n",
       "      <td>0.000000</td>\n",
       "    </tr>\n",
       "    <tr>\n",
       "      <th>50%</th>\n",
       "      <td>2000000.500000</td>\n",
       "      <td>81.000000</td>\n",
       "      <td>141.000000</td>\n",
       "      <td>63.000000</td>\n",
       "      <td>1.000000</td>\n",
       "    </tr>\n",
       "    <tr>\n",
       "      <th>75%</th>\n",
       "      <td>3000000.250000</td>\n",
       "      <td>233.000000</td>\n",
       "      <td>297.000000</td>\n",
       "      <td>182.000000</td>\n",
       "      <td>5.000000</td>\n",
       "    </tr>\n",
       "    <tr>\n",
       "      <th>max</th>\n",
       "      <td>4000000.000000</td>\n",
       "      <td>51580785.000000</td>\n",
       "      <td>937499.000000</td>\n",
       "      <td>18812685.000000</td>\n",
       "      <td>41780.000000</td>\n",
       "    </tr>\n",
       "  </tbody>\n",
       "</table>\n",
       "</div>"
      ],
      "text/plain": [
       "              user_id        followers      followings  active_followers  \\\n",
       "count  4000000.000000   3928007.000000  3967588.000000    3928007.000000   \n",
       "mean   2000000.500000       424.013031      273.838268        279.464293   \n",
       "std    1154700.682717     34250.332521     1254.983664      13424.065390   \n",
       "min          1.000000         1.000000        1.000000          0.000000   \n",
       "25%    1000000.750000        18.000000       52.000000         13.000000   \n",
       "50%    2000000.500000        81.000000      141.000000         63.000000   \n",
       "75%    3000000.250000       233.000000      297.000000        182.000000   \n",
       "max    4000000.000000  51580785.000000   937499.000000   18812685.000000   \n",
       "\n",
       "       num_mutual_follower_added_30d  \n",
       "count                 4000000.000000  \n",
       "mean                        9.154459  \n",
       "std                       102.175053  \n",
       "min                         0.000000  \n",
       "25%                         0.000000  \n",
       "50%                         1.000000  \n",
       "75%                         5.000000  \n",
       "max                     41780.000000  "
      ]
     },
     "execution_count": 17,
     "metadata": {},
     "output_type": "execute_result"
    }
   ],
   "source": [
    "graph.describe()"
   ]
  },
  {
   "cell_type": "markdown",
   "metadata": {},
   "source": [
    "###Distributions"
   ]
  },
  {
   "cell_type": "code",
   "execution_count": 5,
   "metadata": {
    "collapsed": false
   },
   "outputs": [
    {
     "data": {
      "image/png": "[encoded data removed]",
      "text/plain": [
       "<matplotlib.figure.Figure at 0x101510650>"
      ]
     },
     "metadata": {},
     "output_type": "display_data"
    }
   ],
   "source": [
    "%matplotlib inline\n",
    "import matplotlib.pyplot as plt\n",
    "\n",
    "f, axarr = plt.subplots(2, 2)\n",
    "axarr[0, 0].hist(graph['followers'], range(600))\n",
    "axarr[0, 0].set_title('followers')\n",
    "axarr[0, 1].hist(graph['followings'], range(1000))\n",
    "axarr[0, 1].set_title('followings')\n",
    "axarr[1, 0].hist(graph['active_followers'], range(600))\n",
    "axarr[1, 0].set_title('active_followers')\n",
    "axarr[1, 1].hist(graph['num_mutual_follower_added_30d'], range(100))\n",
    "axarr[1, 1].set_title('num_mutual_follower_added_30d')\n",
    "f.tight_layout()"
   ]
  },
  {
   "cell_type": "markdown",
   "metadata": {},
   "source": [
    "###Engagement data"
   ]
  },
  {
   "cell_type": "code",
   "execution_count": null,
   "metadata": {
    "collapsed": true
   },
   "outputs": [],
   "source": []
  },
  {
   "cell_type": "markdown",
   "metadata": {
    "collapsed": true
   },
   "source": [
    "##Hypothesis"
   ]
  },
  {
   "cell_type": "markdown",
   "metadata": {},
   "source": [
    "'Retweeting', 'sharing', 'favoriting' activities is a function of number of followings, number of followers, time spent in app, timeline views.\n",
    "\n",
    "The reasoning behind this is; the more people a user follows, the more likely it is for the user to have available content to be retweeted or favorited from. The more time spend in app and timeline views increase the probability of this happening. "
   ]
  },
  {
   "cell_type": "markdown",
   "metadata": {},
   "source": []
  },
  {
   "cell_type": "code",
   "execution_count": null,
   "metadata": {
    "collapsed": true
   },
   "outputs": [],
   "source": []
  }
 ],
 "metadata": {
  "kernelspec": {
   "display_name": "Python 2",
   "language": "python",
   "name": "python2"
  },
  "language_info": {
   "codemirror_mode": {
    "name": "ipython",
    "version": 2
   },
   "file_extension": ".py",
   "mimetype": "text/x-python",
   "name": "python",
   "nbconvert_exporter": "python",
   "pygments_lexer": "ipython2",
   "version": "2.7.6"
  }
 },
 "nbformat": 4,
 "nbformat_minor": 0
}

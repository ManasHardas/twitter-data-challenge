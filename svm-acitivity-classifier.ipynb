{
 "cells": [
  {
   "cell_type": "markdown",
   "metadata": {},
   "source": [
    "###SVM"
   ]
  },
  {
   "cell_type": "code",
   "execution_count": 3,
   "metadata": {
    "collapsed": false
   },
   "outputs": [
    {
     "name": "stdout",
     "output_type": "stream",
     "text": [
      "PROGRESS: Finished parsing file /Users/mhardas/Google Drive/work/project/twitter-data-challenge/data/user_login_info.csv\n",
      "PROGRESS: Parsing completed. Parsed 100 lines in 3.81788 secs.\n",
      "------------------------------------------------------\n",
      "Inferred types from first line of file as \n",
      "column_type_hints=[int,str,str,int,str]\n",
      "If parsing fails due to incorrect types, you can correct\n",
      "the inferred type list above and pass it to read_csv in\n",
      "the column_type_hints argument\n",
      "------------------------------------------------------\n",
      "PROGRESS: Read 3172097 lines. Lines per second: 1.02576e+06\n",
      "PROGRESS: Finished parsing file /Users/mhardas/Google Drive/work/project/twitter-data-challenge/data/user_login_info.csv\n",
      "PROGRESS: Parsing completed. Parsed 4000000 lines in 3.4383 secs.\n",
      "PROGRESS: Finished parsing file /Users/mhardas/Google Drive/work/project/twitter-data-challenge/data/user_engagement.csv\n",
      "PROGRESS: Parsing completed. Parsed 100 lines in 1.47201 secs.\n",
      "------------------------------------------------------\n",
      "Inferred types from first line of file as \n",
      "column_type_hints=[int,int,int,int,int,int,int,int,int]\n",
      "If parsing fails due to incorrect types, you can correct\n",
      "the inferred type list above and pass it to read_csv in\n",
      "the column_type_hints argument\n",
      "------------------------------------------------------\n",
      "PROGRESS: Read 1737129 lines. Lines per second: 703650\n",
      "PROGRESS: Finished parsing file /Users/mhardas/Google Drive/work/project/twitter-data-challenge/data/user_engagement.csv\n",
      "PROGRESS: Parsing completed. Parsed 4000000 lines in 3.45679 secs.\n"
     ]
    }
   ],
   "source": [
    "import graphlab as gl\n",
    "login = gl.SFrame.read_csv('data/user_login_info.csv')\n",
    "eng = gl.SFrame.read_csv('data/user_engagement.csv')\n",
    "login_eng = login.join(eng, on='user_id', how='inner')"
   ]
  },
  {
   "cell_type": "markdown",
   "metadata": {
    "collapsed": true
   },
   "source": [
    "###Regular SVM"
   ]
  },
  {
   "cell_type": "code",
   "execution_count": 9,
   "metadata": {
    "collapsed": true
   },
   "outputs": [],
   "source": [
    "features=[\n",
    "    'num_tweets_30d',\n",
    "    'num_tweet_days_30d',\n",
    "    'time_in_app_30d',\n",
    "    'num_timeline_views_30d',\n",
    "    'num_share_sent_days_30d',\n",
    "    'num_share_rcvd_30d',\n",
    "    'num_favour_sent_30d',\n",
    "    'num_favour_rcvd_30d',\n",
    "    ]\n",
    "\n",
    "train_login_eng, test_login_eng = login_eng.random_split(0.8, seed=1)"
   ]
  },
  {
   "cell_type": "code",
   "execution_count": 10,
   "metadata": {
    "collapsed": false
   },
   "outputs": [
    {
     "name": "stdout",
     "output_type": "stream",
     "text": [
      "PROGRESS: Creating a validation set from 5 percent of training data. This may take a while.\n",
      "          You can set ``validation_set=None`` to disable validation tracking.\n",
      "\n",
      "PROGRESS: SVM:\n",
      "PROGRESS: --------------------------------------------------------\n",
      "PROGRESS: Number of examples          : 3040056\n",
      "PROGRESS: Number of classes           : 2\n",
      "PROGRESS: Number of feature columns   : 8\n",
      "PROGRESS: Number of unpacked features : 8\n",
      "PROGRESS: Number of coefficients    : 9\n",
      "PROGRESS: Starting L-BFGS\n",
      "PROGRESS: --------------------------------------------------------\n",
      "PROGRESS: +-----------+----------+-----------+--------------+-------------------+---------------------+\n",
      "PROGRESS: | Iteration | Passes   | Step size | Elapsed Time | Training-accuracy | Validation-accuracy |\n",
      "PROGRESS: +-----------+----------+-----------+--------------+-------------------+---------------------+\n",
      "PROGRESS: | 1         | 3        | 0.000000  | 1.330255     | 0.803826          | 0.803193            |\n",
      "PROGRESS: | 2         | 6        | 5.000000  | 3.246017     | 0.803826          | 0.803193            |\n",
      "PROGRESS: | 3         | 7        | 5.000000  | 4.462644     | 0.803826          | 0.803193            |\n",
      "PROGRESS: | 4         | 8        | 5.000000  | 5.398860     | 0.793676          | 0.793351            |\n",
      "PROGRESS: | 5         | 10       | 1.000000  | 6.729393     | 0.865553          | 0.866530            |\n",
      "PROGRESS: | 6         | 11       | 1.000000  | 7.641279     | 0.862913          | 0.862667            |\n",
      "PROGRESS: | 7         | 12       | 1.000000  | 8.577079     | 0.840382          | 0.840157            |\n",
      "PROGRESS: | 8         | 14       | 1.000000  | 9.908462     | 0.859599          | 0.859521            |\n",
      "PROGRESS: | 9         | 15       | 1.000000  | 10.810742    | 0.858546          | 0.858261            |\n",
      "PROGRESS: | 10        | 16       | 1.000000  | 11.714115    | 0.857298          | 0.856894            |\n",
      "PROGRESS: +-----------+----------+-----------+--------------+-------------------+---------------------+\n"
     ]
    }
   ],
   "source": [
    "svm = gl.svm_classifier.create(train_login_eng,\n",
    "                               target='activity',\n",
    "                               features=features,\n",
    "                               max_iterations=10)"
   ]
  },
  {
   "cell_type": "code",
   "execution_count": 12,
   "metadata": {
    "collapsed": false
   },
   "outputs": [
    {
     "name": "stdout",
     "output_type": "stream",
     "text": [
      "{'confusion_matrix': Columns:\n",
      "\ttarget_label\tint\n",
      "\tpredicted_label\tint\n",
      "\tcount\tint\n",
      "\n",
      "Rows: 4\n",
      "\n",
      "Data:\n",
      "+--------------+-----------------+--------+\n",
      "| target_label | predicted_label | count  |\n",
      "+--------------+-----------------+--------+\n",
      "|      0       |        1        | 28441  |\n",
      "|      0       |        0        | 128013 |\n",
      "|      1       |        0        | 86465  |\n",
      "|      1       |        1        | 556787 |\n",
      "+--------------+-----------------+--------+\n",
      "[4 rows x 3 columns]\n",
      ", 'accuracy': 0.8563146956506517}\n"
     ]
    }
   ],
   "source": [
    "#test\n",
    "res = svm.evaluate(test_login_eng)\n",
    "print res"
   ]
  },
  {
   "cell_type": "markdown",
   "metadata": {},
   "source": [
    "SVM gives a 0.85 accuracy. Next, we will try to better the accuracy by some feature engineering. Quadratic features functions generates the product of all feature combinations and treats them as new features. \n",
    "For example, if there are 3 features 'a'=[1,2], 'b'=[3,4], 'c'=[5,6] then quadratic features will generate 3 more features 'ab'=[3,8],"
   ]
  },
  {
   "cell_type": "markdown",
   "metadata": {},
   "source": [
    "####Quadratic features"
   ]
  },
  {
   "cell_type": "code",
   "execution_count": 13,
   "metadata": {
    "collapsed": false
   },
   "outputs": [],
   "source": [
    "# transform\n",
    "quad = gl.feature_engineering.QuadraticFeatures()\n",
    "train_quad = quad.fit_transform(train_login_eng)\n",
    "test_quad = quad.fit_transform(test_login_eng)"
   ]
  },
  {
   "cell_type": "code",
   "execution_count": 14,
   "metadata": {
    "collapsed": false
   },
   "outputs": [
    {
     "name": "stdout",
     "output_type": "stream",
     "text": [
      "PROGRESS: Creating a validation set from 5 percent of training data. This may take a while.\n",
      "          You can set ``validation_set=None`` to disable validation tracking.\n",
      "\n",
      "PROGRESS: SVM:\n",
      "PROGRESS: --------------------------------------------------------\n",
      "PROGRESS: Number of examples          : 3040580\n",
      "PROGRESS: Number of classes           : 2\n",
      "PROGRESS: Number of feature columns   : 13\n",
      "PROGRESS: Number of unpacked features : 298\n",
      "PROGRESS: Number of coefficients    : 308\n",
      "PROGRESS: Starting L-BFGS\n",
      "PROGRESS: --------------------------------------------------------\n",
      "PROGRESS: +-----------+----------+-----------+--------------+-------------------+---------------------+\n",
      "PROGRESS: | Iteration | Passes   | Step size | Elapsed Time | Training-accuracy | Validation-accuracy |\n",
      "PROGRESS: +-----------+----------+-----------+--------------+-------------------+---------------------+\n",
      "PROGRESS: | 1         | 3        | 0.000000  | 35.295607    | 0.824576          | 0.826158            |\n",
      "PROGRESS: | 2         | 5        | 1.000000  | 69.947322    | 0.999836          | 0.999850            |\n",
      "PROGRESS: | 3         | 6        | 1.000000  | 92.547424    | 0.999917          | 0.999931            |\n",
      "PROGRESS: | 4         | 7        | 1.000000  | 113.364410   | 0.999965          | 0.999956            |\n",
      "PROGRESS: | 5         | 8        | 1.000000  | 133.955754   | 0.999981          | 0.999975            |\n",
      "PROGRESS: | 6         | 9        | 1.000000  | 154.738404   | 0.999993          | 0.999994            |\n",
      "PROGRESS: | 7         | 10       | 1.000000  | 173.720537   | 0.999996          | 0.999994            |\n",
      "PROGRESS: | 8         | 11       | 1.000000  | 192.512488   | 0.999999          | 1.000000            |\n",
      "PROGRESS: | 9         | 12       | 1.000000  | 211.708729   | 1.000000          | 1.000000            |\n",
      "PROGRESS: | 10        | 13       | 1.000000  | 232.615736   | 1.000000          | 1.000000            |\n",
      "PROGRESS: +-----------+----------+-----------+--------------+-------------------+---------------------+\n",
      "Class                         : SVMClassifier\n",
      "\n",
      "Schema\n",
      "------\n",
      "Number of coefficients        : 308\n",
      "Number of examples            : 3040580\n",
      "Number of classes             : 2\n",
      "Number of feature columns     : 13\n",
      "Number of unpacked features   : 298\n",
      "\n",
      "Hyperparameters\n",
      "---------------\n",
      "Mis-classification penalty    : 1.0\n",
      "\n",
      "Training Summary\n",
      "----------------\n",
      "Solver                        : auto\n",
      "Solver iterations             : 10\n",
      "Solver status                 : TERMINATED: Iteration limit reached.\n",
      "Training time (sec)           : 241.8363\n",
      "\n",
      "Settings\n",
      "--------\n",
      "Train Loss                    : 0.1612\n",
      "\n",
      "Highest Positive Coefficients\n",
      "-----------------------------\n",
      "quadratic_features[activity:t, activity:t]: 1.0649\n",
      "quadratic_features[primary_device:B, activity:t]: 1.0649\n",
      "quadratic_features[country_id:h, activity:t]: 1.0649\n",
      "quadratic_features[country_id:g, activity:t]: 1.0649\n",
      "quadratic_features[primary_device:A, activity:t]: 1.0649\n",
      "\n",
      "Lowest Negative Coefficients\n",
      "----------------------------\n",
      "quadratic_features[country_id:g, activity:f]: -2.0383\n",
      "quadratic_features[primary_device:B, activity:f]: -2.0131\n",
      "quadratic_features[country_id:b, activity:f]: -1.9781\n",
      "quadratic_features[country_id:h, activity:f]: -1.9684\n",
      "quadratic_features[primary_device:A, activity:f]: -1.9663\n",
      "\n",
      "{'confusion_matrix': Columns:\n",
      "\ttarget_label\tint\n",
      "\tpredicted_label\tint\n",
      "\tcount\tint\n",
      "\n",
      "Rows: 2\n",
      "\n",
      "Data:\n",
      "+--------------+-----------------+--------+\n",
      "| target_label | predicted_label | count  |\n",
      "+--------------+-----------------+--------+\n",
      "|      0       |        0        | 156454 |\n",
      "|      1       |        1        | 643252 |\n",
      "+--------------+-----------------+--------+\n",
      "[2 rows x 3 columns]\n",
      ", 'accuracy': 1.0}\n"
     ]
    }
   ],
   "source": [
    "training_features = features.append('quadratic_features')\n",
    "svm_quad = gl.svm_classifier.create(train_quad,\n",
    "                                     target='activity',\n",
    "                                     features=training_features,\n",
    "                                     max_iterations=10)\n",
    "print svm_quad\n",
    "\n",
    "res_quad = svm_quad.evaluate(test_quad)\n",
    "print res_quad"
   ]
  },
  {
   "cell_type": "markdown",
   "metadata": {
    "collapsed": true
   },
   "source": [
    "The svm classifier fits the data with 100% accuracy. This could mean its overfitting."
   ]
  },
  {
   "cell_type": "code",
   "execution_count": null,
   "metadata": {
    "collapsed": true
   },
   "outputs": [],
   "source": []
  }
 ],
 "metadata": {
  "kernelspec": {
   "display_name": "Python 2",
   "language": "python",
   "name": "python2"
  },
  "language_info": {
   "codemirror_mode": {
    "name": "ipython",
    "version": 2
   },
   "file_extension": ".py",
   "mimetype": "text/x-python",
   "name": "python",
   "nbconvert_exporter": "python",
   "pygments_lexer": "ipython2",
   "version": "2.7.6"
  }
 },
 "nbformat": 4,
 "nbformat_minor": 0
}

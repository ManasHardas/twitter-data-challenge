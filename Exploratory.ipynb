{
 "cells": [
  {
   "cell_type": "markdown",
   "metadata": {},
   "source": [
    "# Notes, assumptions and premises:"
   ]
  },
  {
   "cell_type": "markdown",
   "metadata": {
    "collapsed": true
   },
   "source": [
    "Activities can be classified as \"content generation\" activities versus \"content distribution/handling\". For example, tweeting, replying, direct messaging are \"content generation\" type activities. Whereas, retweeting, sharing via dm, favoriting are \"content distribution/handling\" type activities.\n",
    "\n",
    "Presumably the process that generates content, say process A, and the process that distributes/handles pre-generated content, say process B, is different. The process A is a creative process in which content is being created or information is being communicated to someone else. In process B, content is not created but already generated content is retweeted, shared or favorited for future consumption. I believe it is a worthwhile effort to understand the difference between these two processes, what features affect these processes and which users are good at which processes. For the purpose of this data science challenge I would like try to find some indicators about how these processes differ from the given data.\n",
    "\n",
    "Process A i.e. 'tweeting' can further be classified into replying or creating a new tweet to a user or set of users. A tweet by default is to all followers. Users can be segmented between those who tweet to the general follower populace or those who tweet only to a particular set of users, or those who only tweet replies. However, all these segments of users \"generate\" new content. This is important because, generating new content can be thought of as a deeper level of engagement than reusing content already present on the website.\n",
    "\n",
    "Process B can further be separated into individual processes for retweeting, sharing and favoriting. I will not dvelve further into this but I can clearly see potential differences in the processes relative to network effects, communities, reciprocal behavior, clustering etc. For example, when a user retweets another tweet it is primarily because they \"agree\" with the content of the tweet and want others to take notice. Whereas when a user favorites a tweet it is presumably for their own delayed consumption. Activities of retweeting, sharing and favoriting are treated as one here, that of content distribution rather than content creation.\n",
    "\n",
    "Furthermore processes A and B maybe further different for each and every individual user (mostly are). Therefore it is important to segment the users by processes A and B.\n",
    "\n",
    "\n",
    "'Time in app' and 'Number of timeline views' is an excellent indicator of 'how addicted' a user. Both these metrics "
   ]
  },
  {
   "cell_type": "markdown",
   "metadata": {},
   "source": [
    "##Hypothesis"
   ]
  },
  {
   "cell_type": "markdown",
   "metadata": {},
   "source": [
    "'Retweeting', 'sharing', 'favoriting' activities is a function of number of followings, number of followers, time spent in app, timeline views.\n",
    "\n",
    "The reasoning behind this is; the more people a user follows, the more likely it is for the user to have available content to be retweeted or favorited from. The more time spend in app and timeline views increase the probability of this happening. "
   ]
  },
  {
   "cell_type": "code",
   "execution_count": 44,
   "metadata": {
    "collapsed": false
   },
   "outputs": [
    {
     "data": {
      "text/html": [
       "<div>\n",
       "<table border=\"1\" class=\"dataframe\">\n",
       "  <thead>\n",
       "    <tr style=\"text-align: right;\">\n",
       "      <th></th>\n",
       "      <th>user_id</th>\n",
       "      <th>followers</th>\n",
       "      <th>followings</th>\n",
       "      <th>active_followers</th>\n",
       "      <th>num_mutual_follower_added_30d</th>\n",
       "    </tr>\n",
       "  </thead>\n",
       "  <tbody>\n",
       "    <tr>\n",
       "      <th>0</th>\n",
       "      <td>1</td>\n",
       "      <td>144</td>\n",
       "      <td>139</td>\n",
       "      <td>134</td>\n",
       "      <td>10</td>\n",
       "    </tr>\n",
       "    <tr>\n",
       "      <th>1</th>\n",
       "      <td>2</td>\n",
       "      <td>90</td>\n",
       "      <td>435</td>\n",
       "      <td>78</td>\n",
       "      <td>16</td>\n",
       "    </tr>\n",
       "    <tr>\n",
       "      <th>2</th>\n",
       "      <td>3</td>\n",
       "      <td>2</td>\n",
       "      <td>14</td>\n",
       "      <td>0</td>\n",
       "      <td>0</td>\n",
       "    </tr>\n",
       "    <tr>\n",
       "      <th>3</th>\n",
       "      <td>4</td>\n",
       "      <td>21</td>\n",
       "      <td>131</td>\n",
       "      <td>13</td>\n",
       "      <td>1</td>\n",
       "    </tr>\n",
       "    <tr>\n",
       "      <th>4</th>\n",
       "      <td>5</td>\n",
       "      <td>1</td>\n",
       "      <td>59</td>\n",
       "      <td>0</td>\n",
       "      <td>1</td>\n",
       "    </tr>\n",
       "  </tbody>\n",
       "</table>\n",
       "</div>"
      ],
      "text/plain": [
       "   user_id  followers  followings  active_followers  \\\n",
       "0        1        144         139               134   \n",
       "1        2         90         435                78   \n",
       "2        3          2          14                 0   \n",
       "3        4         21         131                13   \n",
       "4        5          1          59                 0   \n",
       "\n",
       "   num_mutual_follower_added_30d  \n",
       "0                             10  \n",
       "1                             16  \n",
       "2                              0  \n",
       "3                              1  \n",
       "4                              1  "
      ]
     },
     "execution_count": 44,
     "metadata": {},
     "output_type": "execute_result"
    }
   ],
   "source": [
    "import pandas\n",
    "df = pandas.read_csv('data/user_graph.csv')\n",
    "df.head()"
   ]
  },
  {
   "cell_type": "markdown",
   "metadata": {},
   "source": [
    "Distribution"
   ]
  },
  {
   "cell_type": "code",
   "execution_count": 43,
   "metadata": {
    "collapsed": false
   },
   "outputs": [
    {
     "data": {
      "image/png": "[encoded data removed]",
      "text/plain": [
       "<matplotlib.figure.Figure at 0x13b1d5990>"
      ]
     },
     "metadata": {},
     "output_type": "display_data"
    }
   ],
   "source": [
    "%matplotlib inline\n",
    "import numpy as np\n",
    "import scipy.stats as stats\n",
    "import matplotlib.mlab as mlab\n",
    "import matplotlib.pyplot as plt\n",
    "\n",
    "f, axarr = plt.subplots(2, 2)\n",
    "axarr[0, 0].hist(df['followers'], range(1000))\n",
    "axarr[0, 0].set_title('followers')\n",
    "axarr[0, 1].hist(df['followings'], range(1000))\n",
    "axarr[0, 1].set_title('followings')\n",
    "axarr[1, 0].hist(df['active_followers'], range(1000))\n",
    "axarr[1, 0].set_title('active_followers')\n",
    "axarr[1, 1].hist(df['num_mutual_follower_added_30d'], range(1000))\n",
    "axarr[1, 1].set_title('num_mutual_follower_added_30d')\n",
    "f.tight_layout()"
   ]
  },
  {
   "cell_type": "code",
   "execution_count": null,
   "metadata": {
    "collapsed": true
   },
   "outputs": [],
   "source": []
  },
  {
   "cell_type": "markdown",
   "metadata": {},
   "source": [
    "##Hypothesis"
   ]
  },
  {
   "cell_type": "markdown",
   "metadata": {},
   "source": []
  }
 ],
 "metadata": {
  "kernelspec": {
   "display_name": "Python 2",
   "language": "python",
   "name": "python2"
  },
  "language_info": {
   "codemirror_mode": {
    "name": "ipython",
    "version": 2
   },
   "file_extension": ".py",
   "mimetype": "text/x-python",
   "name": "python",
   "nbconvert_exporter": "python",
   "pygments_lexer": "ipython2",
   "version": "2.7.6"
  }
 },
 "nbformat": 4,
 "nbformat_minor": 0
}
